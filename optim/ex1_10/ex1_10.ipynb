{
 "cells": [
  {
   "cell_type": "markdown",
   "metadata": {},
   "source": []
  },
  {
   "cell_type": "markdown",
   "metadata": {},
   "source": [
    "# Inductor volume/mass optimization based on genetic algorithm\n",
    "The inductor structure we will optimize look like the following UI-core and solid wire winding.\n",
    "\n",
    "![UIcore_inductor.png](./img/UIcore_inductor.png \"UIcore_inductor.png\")"
   ]
  },
  {
   "cell_type": "markdown",
   "metadata": {},
   "source": []
  },
  {
   "cell_type": "markdown",
   "metadata": {},
   "source": [
    "The optimizer for this first version is not taking into account AC losses and thermal resistance (that can limit the max dissipable power)."
   ]
  },
  {
   "cell_type": "code",
   "execution_count": 6,
   "metadata": {},
   "outputs": [],
   "source": [
    "import sys\n",
    "import os\n",
    "\n",
    "sys.path.insert(0, os.path.abspath('.'))\n",
    "import eui_fit\n",
    "D=eui_fit.input_design_parameters()"
   ]
  },
  {
   "cell_type": "code",
   "execution_count": 7,
   "metadata": {},
   "outputs": [
    {
     "output_type": "stream",
     "name": "stdout",
     "text": [
      "=====================================================================================\n",
      "n_gen |  n_eval |   cv (min)   |   cv (avg)   |  n_nds  |     eps      |  indicator  \n",
      "=====================================================================================\n",
      "    1 |     100 |  1.087834522 |  4.92888E+06 |       1 |            - |            -\n",
      "    2 |     200 |  1.087834522 |  4.19325E+01 |       1 |  0.00000E+00 |            f\n",
      "    3 |     300 |  0.482546283 |  1.02755E+01 |       1 |  0.533591818 |        ideal\n",
      "    4 |     400 |  0.000946748 |  3.821442304 |       1 |  0.930835396 |        ideal\n",
      "    5 |     500 |  0.000767432 |  1.370130114 |       1 |  0.330401868 |        ideal\n",
      "    6 |     600 |  0.000767432 |  0.532085113 |       1 |  0.00000E+00 |            f\n",
      "    7 |     700 |  0.000525738 |  0.105993290 |       1 |  0.092857859 |        ideal\n",
      "    8 |     800 |  0.000507013 |  0.000954428 |       1 |  0.193289191 |        ideal\n",
      "    9 |     900 |  0.000507013 |  0.000915897 |       1 |  0.00000E+00 |            f\n",
      "   10 |    1000 |  0.000467004 |  0.000853251 |       1 |  0.208271847 |        ideal\n",
      "   11 |    1100 |  0.000315601 |  0.000783477 |       1 |  0.244006892 |        ideal\n",
      "   12 |    1200 |  0.000307188 |  0.000713898 |       1 |  0.222219604 |        ideal\n",
      "   13 |    1300 |  0.00000E+00 |  0.000652378 |       1 |  0.236892833 |        ideal\n",
      "   14 |    1400 |  0.00000E+00 |  0.000571955 |       1 |  0.00000E+00 |            f\n",
      "   15 |    1500 |  0.00000E+00 |  0.000497159 |       1 |  0.00000E+00 |            f\n",
      "   16 |    1600 |  0.00000E+00 |  0.000410622 |       2 |  1.000000000 |        ideal\n",
      "   17 |    1700 |  0.00000E+00 |  0.000323180 |       3 |  0.303675223 |        ideal\n",
      "   18 |    1800 |  0.00000E+00 |  0.000252478 |       4 |  0.140253176 |        ideal\n",
      "   19 |    1900 |  0.00000E+00 |  0.000197009 |       5 |  0.00000E+00 |            f\n",
      "   20 |    2000 |  0.00000E+00 |  0.000146974 |       5 |  0.064204881 |            f\n",
      "   21 |    2100 |  0.00000E+00 |  0.000100087 |       5 |  0.097045802 |            f\n",
      "   22 |    2200 |  0.00000E+00 |  0.000067654 |       5 |  0.00000E+00 |            f\n",
      "   23 |    2300 |  0.00000E+00 |  0.000030657 |       9 |  0.355925834 |        ideal\n",
      "   24 |    2400 |  0.00000E+00 |  3.04623E-06 |       9 |  0.045778209 |        ideal\n",
      "   25 |    2500 |  0.00000E+00 |  0.00000E+00 |      12 |  0.005482059 |            f\n",
      "   26 |    2600 |  0.00000E+00 |  0.00000E+00 |       9 |  0.105673614 |        ideal\n",
      "   27 |    2700 |  0.00000E+00 |  0.00000E+00 |      14 |  0.005810434 |        ideal\n",
      "   28 |    2800 |  0.00000E+00 |  0.00000E+00 |      10 |  0.163420658 |        ideal\n",
      "   29 |    2900 |  0.00000E+00 |  0.00000E+00 |      11 |  0.020107021 |        ideal\n",
      "   30 |    3000 |  0.00000E+00 |  0.00000E+00 |      12 |  0.071822857 |        ideal\n",
      "   31 |    3100 |  0.00000E+00 |  0.00000E+00 |      15 |  0.006145727 |            f\n",
      "   32 |    3200 |  0.00000E+00 |  0.00000E+00 |      14 |  0.103385919 |        ideal\n",
      "   33 |    3300 |  0.00000E+00 |  0.00000E+00 |      16 |  0.034497432 |        ideal\n",
      "   34 |    3400 |  0.00000E+00 |  0.00000E+00 |      18 |  0.012082061 |            f\n",
      "   35 |    3500 |  0.00000E+00 |  0.00000E+00 |      19 |  0.006954913 |            f\n",
      "   36 |    3600 |  0.00000E+00 |  0.00000E+00 |      21 |  0.013253053 |        ideal\n",
      "   37 |    3700 |  0.00000E+00 |  0.00000E+00 |      22 |  0.004034027 |            f\n",
      "   38 |    3800 |  0.00000E+00 |  0.00000E+00 |      24 |  0.005407941 |            f\n",
      "   39 |    3900 |  0.00000E+00 |  0.00000E+00 |      31 |  0.006473967 |            f\n",
      "   40 |    4000 |  0.00000E+00 |  0.00000E+00 |      36 |  0.041593548 |        ideal\n",
      "   41 |    4100 |  0.00000E+00 |  0.00000E+00 |      37 |  0.007806496 |            f\n",
      "   42 |    4200 |  0.00000E+00 |  0.00000E+00 |      40 |  0.017707157 |        ideal\n",
      "   43 |    4300 |  0.00000E+00 |  0.00000E+00 |      38 |  0.074800012 |        ideal\n",
      "   44 |    4400 |  0.00000E+00 |  0.00000E+00 |      43 |  0.004680849 |            f\n",
      "   45 |    4500 |  0.00000E+00 |  0.00000E+00 |      45 |  0.003262642 |        nadir\n",
      "   46 |    4600 |  0.00000E+00 |  0.00000E+00 |      44 |  0.002416446 |            f\n",
      "   47 |    4700 |  0.00000E+00 |  0.00000E+00 |      48 |  0.003263033 |            f\n",
      "   48 |    4800 |  0.00000E+00 |  0.00000E+00 |      54 |  0.010464952 |        ideal\n",
      "   49 |    4900 |  0.00000E+00 |  0.00000E+00 |      62 |  0.003291288 |            f\n",
      "   50 |    5000 |  0.00000E+00 |  0.00000E+00 |      66 |  0.003142263 |            f\n",
      "   51 |    5100 |  0.00000E+00 |  0.00000E+00 |      68 |  0.002379674 |            f\n",
      "   52 |    5200 |  0.00000E+00 |  0.00000E+00 |      68 |  0.030812411 |        ideal\n",
      "   53 |    5300 |  0.00000E+00 |  0.00000E+00 |      75 |  0.014989435 |        ideal\n",
      "   54 |    5400 |  0.00000E+00 |  0.00000E+00 |      78 |  0.002225599 |            f\n",
      "   55 |    5500 |  0.00000E+00 |  0.00000E+00 |      89 |  0.000683734 |            f\n",
      "   56 |    5600 |  0.00000E+00 |  0.00000E+00 |      90 |  0.001491641 |            f\n",
      "   57 |    5700 |  0.00000E+00 |  0.00000E+00 |      97 |  0.002702434 |        ideal\n",
      "   58 |    5800 |  0.00000E+00 |  0.00000E+00 |      99 |  0.001842797 |            f\n",
      "   59 |    5900 |  0.00000E+00 |  0.00000E+00 |     100 |  0.000409692 |            f\n",
      "   60 |    6000 |  0.00000E+00 |  0.00000E+00 |     100 |  0.001116844 |            f\n",
      "   61 |    6100 |  0.00000E+00 |  0.00000E+00 |     100 |  0.006640879 |        nadir\n",
      "   62 |    6200 |  0.00000E+00 |  0.00000E+00 |     100 |  0.000673052 |            f\n",
      "   63 |    6300 |  0.00000E+00 |  0.00000E+00 |      98 |  0.001128780 |            f\n",
      "   64 |    6400 |  0.00000E+00 |  0.00000E+00 |     100 |  0.001329122 |            f\n",
      "   65 |    6500 |  0.00000E+00 |  0.00000E+00 |     100 |  0.001186039 |            f\n",
      "   66 |    6600 |  0.00000E+00 |  0.00000E+00 |     100 |  0.001094011 |            f\n",
      "   67 |    6700 |  0.00000E+00 |  0.00000E+00 |     100 |  0.006577862 |        nadir\n",
      "   68 |    6800 |  0.00000E+00 |  0.00000E+00 |     100 |  0.001396566 |            f\n",
      "   69 |    6900 |  0.00000E+00 |  0.00000E+00 |     100 |  0.000926389 |            f\n",
      "   70 |    7000 |  0.00000E+00 |  0.00000E+00 |     100 |  0.000866796 |            f\n",
      "   71 |    7100 |  0.00000E+00 |  0.00000E+00 |     100 |  0.008616939 |        ideal\n",
      "   72 |    7200 |  0.00000E+00 |  0.00000E+00 |     100 |  0.007370701 |        ideal\n",
      "   73 |    7300 |  0.00000E+00 |  0.00000E+00 |     100 |  0.000442995 |            f\n",
      "   74 |    7400 |  0.00000E+00 |  0.00000E+00 |     100 |  0.019336469 |        ideal\n",
      "   75 |    7500 |  0.00000E+00 |  0.00000E+00 |     100 |  0.000654435 |            f\n",
      "   76 |    7600 |  0.00000E+00 |  0.00000E+00 |     100 |  0.001081908 |            f\n",
      "   77 |    7700 |  0.00000E+00 |  0.00000E+00 |     100 |  0.000843065 |            f\n",
      "   78 |    7800 |  0.00000E+00 |  0.00000E+00 |     100 |  0.000872551 |            f\n",
      "   79 |    7900 |  0.00000E+00 |  0.00000E+00 |     100 |  0.000640831 |            f\n",
      "   80 |    8000 |  0.00000E+00 |  0.00000E+00 |     100 |  0.000591639 |            f\n",
      "   81 |    8100 |  0.00000E+00 |  0.00000E+00 |     100 |  0.000487106 |            f\n",
      "   82 |    8200 |  0.00000E+00 |  0.00000E+00 |     100 |  0.001275972 |            f\n",
      "   83 |    8300 |  0.00000E+00 |  0.00000E+00 |     100 |  0.011045850 |        nadir\n",
      "   84 |    8400 |  0.00000E+00 |  0.00000E+00 |     100 |  0.000926117 |            f\n",
      "   85 |    8500 |  0.00000E+00 |  0.00000E+00 |     100 |  0.000349670 |            f\n",
      "   86 |    8600 |  0.00000E+00 |  0.00000E+00 |     100 |  0.000764550 |            f\n",
      "   87 |    8700 |  0.00000E+00 |  0.00000E+00 |     100 |  0.000505217 |            f\n",
      "   88 |    8800 |  0.00000E+00 |  0.00000E+00 |     100 |  0.000257774 |            f\n",
      "   89 |    8900 |  0.00000E+00 |  0.00000E+00 |     100 |  0.000685308 |            f\n",
      "   90 |    9000 |  0.00000E+00 |  0.00000E+00 |     100 |  0.000561729 |            f\n",
      "   91 |    9100 |  0.00000E+00 |  0.00000E+00 |     100 |  0.000456629 |            f\n",
      "   92 |    9200 |  0.00000E+00 |  0.00000E+00 |     100 |  0.000749506 |            f\n",
      "   93 |    9300 |  0.00000E+00 |  0.00000E+00 |     100 |  0.005203473 |        ideal\n",
      "   94 |    9400 |  0.00000E+00 |  0.00000E+00 |     100 |  0.000789391 |            f\n",
      "   95 |    9500 |  0.00000E+00 |  0.00000E+00 |     100 |  0.000477689 |            f\n",
      "   96 |    9600 |  0.00000E+00 |  0.00000E+00 |     100 |  0.000840806 |            f\n",
      "   97 |    9700 |  0.00000E+00 |  0.00000E+00 |     100 |  0.000427021 |            f\n",
      "   98 |    9800 |  0.00000E+00 |  0.00000E+00 |     100 |  0.000434206 |            f\n",
      "   99 |    9900 |  0.00000E+00 |  0.00000E+00 |     100 |  0.000555201 |            f\n",
      "  100 |   10000 |  0.00000E+00 |  0.00000E+00 |     100 |  0.000706823 |            f\n"
     ]
    }
   ],
   "source": [
    "from bokeh.plotting import figure\n",
    "from bokeh.io import push_notebook, show, output_notebook\n",
    "from bokeh.layouts import row\n",
    "TOOLS = \"hover,pan,wheel_zoom,zoom_in,zoom_out,box_zoom,undo,redo,reset,tap,save,box_select,poly_select,lasso_select,\"\n",
    "\n",
    "res = eui_fit.eui_modesign()\n"
   ]
  },
  {
   "cell_type": "code",
   "execution_count": 8,
   "metadata": {},
   "outputs": [
    {
     "output_type": "display_data",
     "data": {
      "text/html": "\n    <div class=\"bk-root\">\n        <a href=\"https://bokeh.org\" target=\"_blank\" class=\"bk-logo bk-logo-small bk-logo-notebook\"></a>\n        <span id=\"1125\">Loading BokehJS ...</span>\n    </div>"
     },
     "metadata": {}
    },
    {
     "output_type": "display_data",
     "data": {
      "application/javascript": "\n(function(root) {\n  function now() {\n    return new Date();\n  }\n\n  var force = true;\n\n  if (typeof root._bokeh_onload_callbacks === \"undefined\" || force === true) {\n    root._bokeh_onload_callbacks = [];\n    root._bokeh_is_loading = undefined;\n  }\n\n  var JS_MIME_TYPE = 'application/javascript';\n  var HTML_MIME_TYPE = 'text/html';\n  var EXEC_MIME_TYPE = 'application/vnd.bokehjs_exec.v0+json';\n  var CLASS_NAME = 'output_bokeh rendered_html';\n\n  /**\n   * Render data to the DOM node\n   */\n  function render(props, node) {\n    var script = document.createElement(\"script\");\n    node.appendChild(script);\n  }\n\n  /**\n   * Handle when an output is cleared or removed\n   */\n  function handleClearOutput(event, handle) {\n    var cell = handle.cell;\n\n    var id = cell.output_area._bokeh_element_id;\n    var server_id = cell.output_area._bokeh_server_id;\n    // Clean up Bokeh references\n    if (id != null && id in Bokeh.index) {\n      Bokeh.index[id].model.document.clear();\n      delete Bokeh.index[id];\n    }\n\n    if (server_id !== undefined) {\n      // Clean up Bokeh references\n      var cmd = \"from bokeh.io.state import curstate; print(curstate().uuid_to_server['\" + server_id + \"'].get_sessions()[0].document.roots[0]._id)\";\n      cell.notebook.kernel.execute(cmd, {\n        iopub: {\n          output: function(msg) {\n            var id = msg.content.text.trim();\n            if (id in Bokeh.index) {\n              Bokeh.index[id].model.document.clear();\n              delete Bokeh.index[id];\n            }\n          }\n        }\n      });\n      // Destroy server and session\n      var cmd = \"import bokeh.io.notebook as ion; ion.destroy_server('\" + server_id + \"')\";\n      cell.notebook.kernel.execute(cmd);\n    }\n  }\n\n  /**\n   * Handle when a new output is added\n   */\n  function handleAddOutput(event, handle) {\n    var output_area = handle.output_area;\n    var output = handle.output;\n\n    // limit handleAddOutput to display_data with EXEC_MIME_TYPE content only\n    if ((output.output_type != \"display_data\") || (!output.data.hasOwnProperty(EXEC_MIME_TYPE))) {\n      return\n    }\n\n    var toinsert = output_area.element.find(\".\" + CLASS_NAME.split(' ')[0]);\n\n    if (output.metadata[EXEC_MIME_TYPE][\"id\"] !== undefined) {\n      toinsert[toinsert.length - 1].firstChild.textContent = output.data[JS_MIME_TYPE];\n      // store reference to embed id on output_area\n      output_area._bokeh_element_id = output.metadata[EXEC_MIME_TYPE][\"id\"];\n    }\n    if (output.metadata[EXEC_MIME_TYPE][\"server_id\"] !== undefined) {\n      var bk_div = document.createElement(\"div\");\n      bk_div.innerHTML = output.data[HTML_MIME_TYPE];\n      var script_attrs = bk_div.children[0].attributes;\n      for (var i = 0; i < script_attrs.length; i++) {\n        toinsert[toinsert.length - 1].firstChild.setAttribute(script_attrs[i].name, script_attrs[i].value);\n        toinsert[toinsert.length - 1].firstChild.textContent = bk_div.children[0].textContent\n      }\n      // store reference to server id on output_area\n      output_area._bokeh_server_id = output.metadata[EXEC_MIME_TYPE][\"server_id\"];\n    }\n  }\n\n  function register_renderer(events, OutputArea) {\n\n    function append_mime(data, metadata, element) {\n      // create a DOM node to render to\n      var toinsert = this.create_output_subarea(\n        metadata,\n        CLASS_NAME,\n        EXEC_MIME_TYPE\n      );\n      this.keyboard_manager.register_events(toinsert);\n      // Render to node\n      var props = {data: data, metadata: metadata[EXEC_MIME_TYPE]};\n      render(props, toinsert[toinsert.length - 1]);\n      element.append(toinsert);\n      return toinsert\n    }\n\n    /* Handle when an output is cleared or removed */\n    events.on('clear_output.CodeCell', handleClearOutput);\n    events.on('delete.Cell', handleClearOutput);\n\n    /* Handle when a new output is added */\n    events.on('output_added.OutputArea', handleAddOutput);\n\n    /**\n     * Register the mime type and append_mime function with output_area\n     */\n    OutputArea.prototype.register_mime_type(EXEC_MIME_TYPE, append_mime, {\n      /* Is output safe? */\n      safe: true,\n      /* Index of renderer in `output_area.display_order` */\n      index: 0\n    });\n  }\n\n  // register the mime type if in Jupyter Notebook environment and previously unregistered\n  if (root.Jupyter !== undefined) {\n    var events = require('base/js/events');\n    var OutputArea = require('notebook/js/outputarea').OutputArea;\n\n    if (OutputArea.prototype.mime_types().indexOf(EXEC_MIME_TYPE) == -1) {\n      register_renderer(events, OutputArea);\n    }\n  }\n\n  \n  if (typeof (root._bokeh_timeout) === \"undefined\" || force === true) {\n    root._bokeh_timeout = Date.now() + 5000;\n    root._bokeh_failed_load = false;\n  }\n\n  var NB_LOAD_WARNING = {'data': {'text/html':\n     \"<div style='background-color: #fdd'>\\n\"+\n     \"<p>\\n\"+\n     \"BokehJS does not appear to have successfully loaded. If loading BokehJS from CDN, this \\n\"+\n     \"may be due to a slow or bad network connection. Possible fixes:\\n\"+\n     \"</p>\\n\"+\n     \"<ul>\\n\"+\n     \"<li>re-rerun `output_notebook()` to attempt to load from CDN again, or</li>\\n\"+\n     \"<li>use INLINE resources instead, as so:</li>\\n\"+\n     \"</ul>\\n\"+\n     \"<code>\\n\"+\n     \"from bokeh.resources import INLINE\\n\"+\n     \"output_notebook(resources=INLINE)\\n\"+\n     \"</code>\\n\"+\n     \"</div>\"}};\n\n  function display_loaded() {\n    var el = document.getElementById(\"1125\");\n    if (el != null) {\n      el.textContent = \"BokehJS is loading...\";\n    }\n    if (root.Bokeh !== undefined) {\n      if (el != null) {\n        el.textContent = \"BokehJS \" + root.Bokeh.version + \" successfully loaded.\";\n      }\n    } else if (Date.now() < root._bokeh_timeout) {\n      setTimeout(display_loaded, 100)\n    }\n  }\n\n\n  function run_callbacks() {\n    try {\n      root._bokeh_onload_callbacks.forEach(function(callback) {\n        if (callback != null)\n          callback();\n      });\n    } finally {\n      delete root._bokeh_onload_callbacks\n    }\n    console.debug(\"Bokeh: all callbacks have finished\");\n  }\n\n  function load_libs(css_urls, js_urls, callback) {\n    if (css_urls == null) css_urls = [];\n    if (js_urls == null) js_urls = [];\n\n    root._bokeh_onload_callbacks.push(callback);\n    if (root._bokeh_is_loading > 0) {\n      console.debug(\"Bokeh: BokehJS is being loaded, scheduling callback at\", now());\n      return null;\n    }\n    if (js_urls == null || js_urls.length === 0) {\n      run_callbacks();\n      return null;\n    }\n    console.debug(\"Bokeh: BokehJS not loaded, scheduling load and callback at\", now());\n    root._bokeh_is_loading = css_urls.length + js_urls.length;\n\n    function on_load() {\n      root._bokeh_is_loading--;\n      if (root._bokeh_is_loading === 0) {\n        console.debug(\"Bokeh: all BokehJS libraries/stylesheets loaded\");\n        run_callbacks()\n      }\n    }\n\n    function on_error() {\n      console.error(\"failed to load \" + url);\n    }\n\n    for (var i = 0; i < css_urls.length; i++) {\n      var url = css_urls[i];\n      const element = document.createElement(\"link\");\n      element.onload = on_load;\n      element.onerror = on_error;\n      element.rel = \"stylesheet\";\n      element.type = \"text/css\";\n      element.href = url;\n      console.debug(\"Bokeh: injecting link tag for BokehJS stylesheet: \", url);\n      document.body.appendChild(element);\n    }\n\n    const hashes = {\"https://cdn.bokeh.org/bokeh/release/bokeh-2.2.1.min.js\": \"qkRvDQVAIfzsJo40iRBbxt6sttt0hv4lh74DG7OK4MCHv4C5oohXYoHUM5W11uqS\", \"https://cdn.bokeh.org/bokeh/release/bokeh-widgets-2.2.1.min.js\": \"Sb7Mr06a9TNlet/GEBeKaf5xH3eb6AlCzwjtU82wNPyDrnfoiVl26qnvlKjmcAd+\", \"https://cdn.bokeh.org/bokeh/release/bokeh-tables-2.2.1.min.js\": \"HaJ15vgfmcfRtB4c4YBOI4f1MUujukqInOWVqZJZZGK7Q+ivud0OKGSTn/Vm2iso\"};\n\n    for (var i = 0; i < js_urls.length; i++) {\n      var url = js_urls[i];\n      var element = document.createElement('script');\n      element.onload = on_load;\n      element.onerror = on_error;\n      element.async = false;\n      element.src = url;\n      if (url in hashes) {\n        element.crossOrigin = \"anonymous\";\n        element.integrity = \"sha384-\" + hashes[url];\n      }\n      console.debug(\"Bokeh: injecting script tag for BokehJS library: \", url);\n      document.head.appendChild(element);\n    }\n  };\n\n  function inject_raw_css(css) {\n    const element = document.createElement(\"style\");\n    element.appendChild(document.createTextNode(css));\n    document.body.appendChild(element);\n  }\n\n  \n  var js_urls = [\"https://cdn.bokeh.org/bokeh/release/bokeh-2.2.1.min.js\", \"https://cdn.bokeh.org/bokeh/release/bokeh-widgets-2.2.1.min.js\", \"https://cdn.bokeh.org/bokeh/release/bokeh-tables-2.2.1.min.js\"];\n  var css_urls = [];\n  \n\n  var inline_js = [\n    function(Bokeh) {\n      Bokeh.set_log_level(\"info\");\n    },\n    function(Bokeh) {\n    \n    \n    }\n  ];\n\n  function run_inline_js() {\n    \n    if (root.Bokeh !== undefined || force === true) {\n      \n    for (var i = 0; i < inline_js.length; i++) {\n      inline_js[i].call(root, root.Bokeh);\n    }\n    if (force === true) {\n        display_loaded();\n      }} else if (Date.now() < root._bokeh_timeout) {\n      setTimeout(run_inline_js, 100);\n    } else if (!root._bokeh_failed_load) {\n      console.log(\"Bokeh: BokehJS failed to load within specified timeout.\");\n      root._bokeh_failed_load = true;\n    } else if (force !== true) {\n      var cell = $(document.getElementById(\"1125\")).parents('.cell').data().cell;\n      cell.output_area.append_execute_result(NB_LOAD_WARNING)\n    }\n\n  }\n\n  if (root._bokeh_is_loading === 0) {\n    console.debug(\"Bokeh: BokehJS loaded, going straight to plotting\");\n    run_inline_js();\n  } else {\n    load_libs(css_urls, js_urls, function() {\n      console.debug(\"Bokeh: BokehJS plotting callback run at\", now());\n      run_inline_js();\n    });\n  }\n}(window));",
      "application/vnd.bokehjs_load.v0+json": "\n(function(root) {\n  function now() {\n    return new Date();\n  }\n\n  var force = true;\n\n  if (typeof root._bokeh_onload_callbacks === \"undefined\" || force === true) {\n    root._bokeh_onload_callbacks = [];\n    root._bokeh_is_loading = undefined;\n  }\n\n  \n\n  \n  if (typeof (root._bokeh_timeout) === \"undefined\" || force === true) {\n    root._bokeh_timeout = Date.now() + 5000;\n    root._bokeh_failed_load = false;\n  }\n\n  var NB_LOAD_WARNING = {'data': {'text/html':\n     \"<div style='background-color: #fdd'>\\n\"+\n     \"<p>\\n\"+\n     \"BokehJS does not appear to have successfully loaded. If loading BokehJS from CDN, this \\n\"+\n     \"may be due to a slow or bad network connection. Possible fixes:\\n\"+\n     \"</p>\\n\"+\n     \"<ul>\\n\"+\n     \"<li>re-rerun `output_notebook()` to attempt to load from CDN again, or</li>\\n\"+\n     \"<li>use INLINE resources instead, as so:</li>\\n\"+\n     \"</ul>\\n\"+\n     \"<code>\\n\"+\n     \"from bokeh.resources import INLINE\\n\"+\n     \"output_notebook(resources=INLINE)\\n\"+\n     \"</code>\\n\"+\n     \"</div>\"}};\n\n  function display_loaded() {\n    var el = document.getElementById(\"1125\");\n    if (el != null) {\n      el.textContent = \"BokehJS is loading...\";\n    }\n    if (root.Bokeh !== undefined) {\n      if (el != null) {\n        el.textContent = \"BokehJS \" + root.Bokeh.version + \" successfully loaded.\";\n      }\n    } else if (Date.now() < root._bokeh_timeout) {\n      setTimeout(display_loaded, 100)\n    }\n  }\n\n\n  function run_callbacks() {\n    try {\n      root._bokeh_onload_callbacks.forEach(function(callback) {\n        if (callback != null)\n          callback();\n      });\n    } finally {\n      delete root._bokeh_onload_callbacks\n    }\n    console.debug(\"Bokeh: all callbacks have finished\");\n  }\n\n  function load_libs(css_urls, js_urls, callback) {\n    if (css_urls == null) css_urls = [];\n    if (js_urls == null) js_urls = [];\n\n    root._bokeh_onload_callbacks.push(callback);\n    if (root._bokeh_is_loading > 0) {\n      console.debug(\"Bokeh: BokehJS is being loaded, scheduling callback at\", now());\n      return null;\n    }\n    if (js_urls == null || js_urls.length === 0) {\n      run_callbacks();\n      return null;\n    }\n    console.debug(\"Bokeh: BokehJS not loaded, scheduling load and callback at\", now());\n    root._bokeh_is_loading = css_urls.length + js_urls.length;\n\n    function on_load() {\n      root._bokeh_is_loading--;\n      if (root._bokeh_is_loading === 0) {\n        console.debug(\"Bokeh: all BokehJS libraries/stylesheets loaded\");\n        run_callbacks()\n      }\n    }\n\n    function on_error() {\n      console.error(\"failed to load \" + url);\n    }\n\n    for (var i = 0; i < css_urls.length; i++) {\n      var url = css_urls[i];\n      const element = document.createElement(\"link\");\n      element.onload = on_load;\n      element.onerror = on_error;\n      element.rel = \"stylesheet\";\n      element.type = \"text/css\";\n      element.href = url;\n      console.debug(\"Bokeh: injecting link tag for BokehJS stylesheet: \", url);\n      document.body.appendChild(element);\n    }\n\n    const hashes = {\"https://cdn.bokeh.org/bokeh/release/bokeh-2.2.1.min.js\": \"qkRvDQVAIfzsJo40iRBbxt6sttt0hv4lh74DG7OK4MCHv4C5oohXYoHUM5W11uqS\", \"https://cdn.bokeh.org/bokeh/release/bokeh-widgets-2.2.1.min.js\": \"Sb7Mr06a9TNlet/GEBeKaf5xH3eb6AlCzwjtU82wNPyDrnfoiVl26qnvlKjmcAd+\", \"https://cdn.bokeh.org/bokeh/release/bokeh-tables-2.2.1.min.js\": \"HaJ15vgfmcfRtB4c4YBOI4f1MUujukqInOWVqZJZZGK7Q+ivud0OKGSTn/Vm2iso\"};\n\n    for (var i = 0; i < js_urls.length; i++) {\n      var url = js_urls[i];\n      var element = document.createElement('script');\n      element.onload = on_load;\n      element.onerror = on_error;\n      element.async = false;\n      element.src = url;\n      if (url in hashes) {\n        element.crossOrigin = \"anonymous\";\n        element.integrity = \"sha384-\" + hashes[url];\n      }\n      console.debug(\"Bokeh: injecting script tag for BokehJS library: \", url);\n      document.head.appendChild(element);\n    }\n  };\n\n  function inject_raw_css(css) {\n    const element = document.createElement(\"style\");\n    element.appendChild(document.createTextNode(css));\n    document.body.appendChild(element);\n  }\n\n  \n  var js_urls = [\"https://cdn.bokeh.org/bokeh/release/bokeh-2.2.1.min.js\", \"https://cdn.bokeh.org/bokeh/release/bokeh-widgets-2.2.1.min.js\", \"https://cdn.bokeh.org/bokeh/release/bokeh-tables-2.2.1.min.js\"];\n  var css_urls = [];\n  \n\n  var inline_js = [\n    function(Bokeh) {\n      Bokeh.set_log_level(\"info\");\n    },\n    function(Bokeh) {\n    \n    \n    }\n  ];\n\n  function run_inline_js() {\n    \n    if (root.Bokeh !== undefined || force === true) {\n      \n    for (var i = 0; i < inline_js.length; i++) {\n      inline_js[i].call(root, root.Bokeh);\n    }\n    if (force === true) {\n        display_loaded();\n      }} else if (Date.now() < root._bokeh_timeout) {\n      setTimeout(run_inline_js, 100);\n    } else if (!root._bokeh_failed_load) {\n      console.log(\"Bokeh: BokehJS failed to load within specified timeout.\");\n      root._bokeh_failed_load = true;\n    } else if (force !== true) {\n      var cell = $(document.getElementById(\"1125\")).parents('.cell').data().cell;\n      cell.output_area.append_execute_result(NB_LOAD_WARNING)\n    }\n\n  }\n\n  if (root._bokeh_is_loading === 0) {\n    console.debug(\"Bokeh: BokehJS loaded, going straight to plotting\");\n    run_inline_js();\n  } else {\n    load_libs(css_urls, js_urls, function() {\n      console.debug(\"Bokeh: BokehJS plotting callback run at\", now());\n      run_inline_js();\n    });\n  }\n}(window));"
     },
     "metadata": {}
    }
   ],
   "source": [
    "output_notebook()"
   ]
  },
  {
   "cell_type": "code",
   "execution_count": 9,
   "metadata": {},
   "outputs": [
    {
     "output_type": "display_data",
     "data": {
      "text/html": "\n\n\n\n\n\n  <div class=\"bk-root\" id=\"0df4ab1a-332e-485a-9612-b18338210e54\" data-root-id=\"1126\"></div>\n"
     },
     "metadata": {}
    },
    {
     "output_type": "display_data",
     "data": {
      "application/javascript": "(function(root) {\n  function embed_document(root) {\n    \n  var docs_json = {\"ebfe27fc-7fb2-40b9-9708-4d293f0f0614\":{\"roots\":{\"references\":[{\"attributes\":{\"below\":[{\"id\":\"1137\"}],\"center\":[{\"id\":\"1140\"},{\"id\":\"1144\"}],\"left\":[{\"id\":\"1141\"}],\"plot_height\":450,\"renderers\":[{\"id\":\"1181\"}],\"title\":{\"id\":\"1127\"},\"toolbar\":{\"id\":\"1163\"},\"x_range\":{\"id\":\"1129\"},\"x_scale\":{\"id\":\"1133\"},\"y_range\":{\"id\":\"1131\"},\"y_scale\":{\"id\":\"1135\"}},\"id\":\"1126\",\"subtype\":\"Figure\",\"type\":\"Plot\"},{\"attributes\":{},\"id\":\"1135\",\"type\":\"LinearScale\"},{\"attributes\":{\"fill_alpha\":{\"value\":0.1},\"fill_color\":{\"value\":\"#1f77b4\"},\"line_alpha\":{\"value\":0.1},\"line_color\":{\"value\":\"#1f77b4\"},\"x\":{\"field\":\"x\"},\"y\":{\"field\":\"y\"}},\"id\":\"1180\",\"type\":\"Scatter\"},{\"attributes\":{},\"id\":\"1129\",\"type\":\"DataRange1d\"},{\"attributes\":{\"data_source\":{\"id\":\"1178\"},\"glyph\":{\"id\":\"1179\"},\"hover_glyph\":null,\"muted_glyph\":null,\"nonselection_glyph\":{\"id\":\"1180\"},\"selection_glyph\":null,\"view\":{\"id\":\"1182\"}},\"id\":\"1181\",\"type\":\"GlyphRenderer\"},{\"attributes\":{},\"id\":\"1147\",\"type\":\"WheelZoomTool\"},{\"attributes\":{},\"id\":\"1149\",\"type\":\"ZoomOutTool\"},{\"attributes\":{\"text\":\"inductor optimization\"},\"id\":\"1127\",\"type\":\"Title\"},{\"attributes\":{\"axis\":{\"id\":\"1137\"},\"ticker\":null},\"id\":\"1140\",\"type\":\"Grid\"},{\"attributes\":{\"bottom_units\":\"screen\",\"fill_alpha\":0.5,\"fill_color\":\"lightgrey\",\"left_units\":\"screen\",\"level\":\"overlay\",\"line_alpha\":1.0,\"line_color\":\"black\",\"line_dash\":[4,4],\"line_width\":2,\"right_units\":\"screen\",\"top_units\":\"screen\"},\"id\":\"1160\",\"type\":\"BoxAnnotation\"},{\"attributes\":{},\"id\":\"1152\",\"type\":\"RedoTool\"},{\"attributes\":{\"bottom_units\":\"screen\",\"fill_alpha\":0.5,\"fill_color\":\"lightgrey\",\"left_units\":\"screen\",\"level\":\"overlay\",\"line_alpha\":1.0,\"line_color\":\"black\",\"line_dash\":[4,4],\"line_width\":2,\"right_units\":\"screen\",\"top_units\":\"screen\"},\"id\":\"1159\",\"type\":\"BoxAnnotation\"},{\"attributes\":{\"active_drag\":\"auto\",\"active_inspect\":\"auto\",\"active_multi\":null,\"active_scroll\":\"auto\",\"active_tap\":\"auto\",\"tools\":[{\"id\":\"1145\"},{\"id\":\"1146\"},{\"id\":\"1147\"},{\"id\":\"1148\"},{\"id\":\"1149\"},{\"id\":\"1150\"},{\"id\":\"1151\"},{\"id\":\"1152\"},{\"id\":\"1153\"},{\"id\":\"1154\"},{\"id\":\"1155\"},{\"id\":\"1156\"},{\"id\":\"1157\"},{\"id\":\"1158\"}]},\"id\":\"1163\",\"type\":\"Toolbar\"},{\"attributes\":{\"fill_color\":{\"value\":\"#1f77b4\"},\"line_color\":{\"value\":\"#1f77b4\"},\"x\":{\"field\":\"x\"},\"y\":{\"field\":\"y\"}},\"id\":\"1179\",\"type\":\"Scatter\"},{\"attributes\":{},\"id\":\"1204\",\"type\":\"Selection\"},{\"attributes\":{},\"id\":\"1131\",\"type\":\"DataRange1d\"},{\"attributes\":{\"data\":{\"x\":{\"__ndarray__\":\"tvVbjEYv4z+49ODtz/7vPxAkSzBrgu4/zIBySfzs7j9myjMUjKzjP8hvAzkR+OY/3HSZKyla5j/9NTC3V5nkP+LEVlutwOQ/AXnupG5Y5z98mE8K+2TqPx1OpWOgiOM/79V5yef77T9ZoseqAjflP/o1W5InVeU/xKGRX56A5z/NOh5HwynmP7LKJq5oHeU/wPhB9fhV6z9+Tdf5EJPmPwrYqJl8reo/+Ftp6ynC6D8ILm86zDXuPw7195SY4ug/pkJbDn1l4z/0KNqos1HjP8tn16o7xuY/BCMgmnJa6D/0h1axcbzjP01CELVX+ek/zu+X308O5D+W0jPINV/vP5Fo3ggHwe0/tKCnty145j/vbjKkKV/kP+RVeyt3RO0/pJ2Hmmw85D/STlyFoILpP9iPRmUoqOs/XH6pr8wd5D/DZWICV3XkP9oMInL82+M/kiv1ELRO7D/upVTKMPHjP7+9Si/l6uM/c6iiGfUt5z9CVqGkK3jsP+iYosOQmeg/vihsPUcr7D8HjoMVt3ftP0QREKo1p+8/D7TAsI/o5D8nThFTUPPnPxRAVNYCfeU/HIiCGyyb6T+dYQ1NHWjuP/8knrQYqO0/sXG/wHAH5j+NRHs0IhznP6tY0l+Gu+Y/Wf3ijsJB4z9hsuPNFBzvP6Fs2d/VIeo/sxOAd/Ow5z8uNIMF+TLrPwbouW29U+k/4B5/Svu36j/NjpN05K7lP347VvSv1u8/QDn6kT7/6D/MPJNRKSnoP5KyL6eYnOU/jwro0Nmb7D/uYvwQOwPrP272ormp6eo/pGDbK4kW5j980bSJ0NHpP1B/50d8Suo/c/NonBcQ7T/5GA6GKifoP3kv6Whhpec/YDhkZ/cy5D92n/sKzwblPz6DkWNs4ew/TLk4DFe26T9a3Q5GG1ntPxxrzjmngug/lk2KXGiK5T8QNaIHoC3qPxwAmoRj1es/ckB1xlfY5z/uhlA6eRnpPwQ18wBkxus/olJnGmv46z+EU43AJQXsP25jNZhAQek/tI0loAzr5T9ciUb0DnPoPyxr08xwCu8/XJbYGJjf5T8=\",\"dtype\":\"float64\",\"order\":\"little\",\"shape\":[100]},\"y\":{\"__ndarray__\":\"fvb1GZvF7z9Wyxsd+1vbP0lXS919JN0/uh8fSn+43D8S0nE4dmXuP5Y7ycE9yOY/ct4x4vzh5z+BTUvqVajrP4z5vojAXus/InXJ38I45j9BoHtXqyTiPx8Q5Xr53+4/vDRhJ6/i3T99jy7GNTHqP7OnN2QZ8ek/9n3zEFjl5T9tftb71D/oP725gCfWk+o/TjsOR+gs4T8xFS2TMX3nP29rbqfH5OE/kTAc7/U35D/oVU6ChZHdP70VqppL9OM/h5hwW3/77j+eTDYg2VbvP1Gu1VbgJec/dJmuTA225D9c8NQQ3BTuPz+h17MNuOI/d2Hygd0o7T86nP8oLPDbP0iWfrboOd4/3+5emmKg5z9HRk0/ZzfsP1qFo4zkFd8/6ScPTFuK7D8gX0x3XkHjP2DgNT+z7+A/tXJ/Sqnk7D9AG8VPUPzrPzgU8eyz6+0/Uy/L3YJM4D//JlcN013tP3sVGk/Wpe0/oBAY28R05j8BEDME7SngP44kgf5KVOQ/bnIZn1tt4D/WC51XTK7eP872sktnmts/EbB3d08T6z863fzI+kXlPwwlAaIcq+k/4G7eWD0T4z8UULO1pojdP4RvCNThYN4/c6nRvsyd6D9zglo33I7mP4rjIVa6MOc/f3sEKsSI7z+hkkQR2EPcP8dMuQ1Jk+I/ecHxcsGh5T+o+RrWilvhP/3F9zRbYOM/u3bESYnR4T9GvtG4IDbpP7+0p0b4Yts/DQu7Lz7J4z+KLvUsFe7kP4j19NvYX+k/iM4+0UQO4D8pBkHix3/hP6i6lB7nneE/OrpKCCxi6D8iJN7ZxN7iP5GhvjXlVOI/bJx/lNVk3z+WJx/USi/lP5tHgGqiw+U/cnw0h02r7D//wBgx0MrqPyDzGVE/kt8/k1T8L2nn4j8RmhohNc3eP5Bh5vQuiOQ/hB4QEoSY6T9JdeRRbWPiP0ihBJAZu+A/VyDt309u5T/l2J1jVKnjP7BFxiXVxuA/nIxPjdqV4D+maFoJaIvgP4jhfuDGgeM/8P57qIPF6D/TLvwzdpjkPwOR/ClOedw/FXFiIy7N6D8=\",\"dtype\":\"float64\",\"order\":\"little\",\"shape\":[100]}},\"selected\":{\"id\":\"1204\"},\"selection_policy\":{\"id\":\"1203\"}},\"id\":\"1178\",\"type\":\"ColumnDataSource\"},{\"attributes\":{\"fill_alpha\":0.5,\"fill_color\":\"lightgrey\",\"level\":\"overlay\",\"line_alpha\":1.0,\"line_color\":\"black\",\"line_dash\":[4,4],\"line_width\":2,\"xs_units\":\"screen\",\"ys_units\":\"screen\"},\"id\":\"1161\",\"type\":\"PolyAnnotation\"},{\"attributes\":{},\"id\":\"1148\",\"type\":\"ZoomInTool\"},{\"attributes\":{\"overlay\":{\"id\":\"1160\"}},\"id\":\"1150\",\"type\":\"BoxZoomTool\"},{\"attributes\":{\"axis\":{\"id\":\"1141\"},\"dimension\":1,\"ticker\":null},\"id\":\"1144\",\"type\":\"Grid\"},{\"attributes\":{\"overlay\":{\"id\":\"1159\"}},\"id\":\"1156\",\"type\":\"BoxSelectTool\"},{\"attributes\":{},\"id\":\"1155\",\"type\":\"SaveTool\"},{\"attributes\":{},\"id\":\"1196\",\"type\":\"BasicTickFormatter\"},{\"attributes\":{\"callback\":null},\"id\":\"1145\",\"type\":\"HoverTool\"},{\"attributes\":{},\"id\":\"1198\",\"type\":\"BasicTickFormatter\"},{\"attributes\":{},\"id\":\"1153\",\"type\":\"ResetTool\"},{\"attributes\":{},\"id\":\"1138\",\"type\":\"BasicTicker\"},{\"attributes\":{\"axis_label\":\"losses\",\"formatter\":{\"id\":\"1196\"},\"ticker\":{\"id\":\"1142\"}},\"id\":\"1141\",\"type\":\"LinearAxis\"},{\"attributes\":{},\"id\":\"1203\",\"type\":\"UnionRenderers\"},{\"attributes\":{},\"id\":\"1146\",\"type\":\"PanTool\"},{\"attributes\":{\"overlay\":{\"id\":\"1162\"}},\"id\":\"1157\",\"type\":\"PolySelectTool\"},{\"attributes\":{\"source\":{\"id\":\"1178\"}},\"id\":\"1182\",\"type\":\"CDSView\"},{\"attributes\":{\"fill_alpha\":0.5,\"fill_color\":\"lightgrey\",\"level\":\"overlay\",\"line_alpha\":1.0,\"line_color\":\"black\",\"line_dash\":[4,4],\"line_width\":2,\"xs_units\":\"screen\",\"ys_units\":\"screen\"},\"id\":\"1162\",\"type\":\"PolyAnnotation\"},{\"attributes\":{},\"id\":\"1142\",\"type\":\"BasicTicker\"},{\"attributes\":{},\"id\":\"1151\",\"type\":\"UndoTool\"},{\"attributes\":{\"callback\":null},\"id\":\"1154\",\"type\":\"TapTool\"},{\"attributes\":{},\"id\":\"1133\",\"type\":\"LinearScale\"},{\"attributes\":{\"overlay\":{\"id\":\"1161\"}},\"id\":\"1158\",\"type\":\"LassoSelectTool\"},{\"attributes\":{\"axis_label\":\"mass\",\"formatter\":{\"id\":\"1198\"},\"ticker\":{\"id\":\"1138\"}},\"id\":\"1137\",\"type\":\"LinearAxis\"}],\"root_ids\":[\"1126\"]},\"title\":\"Bokeh Application\",\"version\":\"2.2.1\"}};\n  var render_items = [{\"docid\":\"ebfe27fc-7fb2-40b9-9708-4d293f0f0614\",\"root_ids\":[\"1126\"],\"roots\":{\"1126\":\"0df4ab1a-332e-485a-9612-b18338210e54\"}}];\n  root.Bokeh.embed.embed_items_notebook(docs_json, render_items);\n\n  }\n  if (root.Bokeh !== undefined) {\n    embed_document(root);\n  } else {\n    var attempts = 0;\n    var timer = setInterval(function(root) {\n      if (root.Bokeh !== undefined) {\n        clearInterval(timer);\n        embed_document(root);\n      } else {\n        attempts++;\n        if (attempts > 100) {\n          clearInterval(timer);\n          console.log(\"Bokeh: ERROR: Unable to run BokehJS code because BokehJS library is missing\");\n        }\n      }\n    }, 10, root)\n  }\n})(window);",
      "application/vnd.bokehjs_exec.v0+json": ""
     },
     "metadata": {
      "application/vnd.bokehjs_exec.v0+json": {
       "id": "1126"
      }
     }
    }
   ],
   "source": [
    "p = figure(tools=TOOLS, plot_width=600, plot_height=450, title=\"inductor optimization\")\n",
    "p.scatter(x=res.F[:, 0], y=res.F[:, 1])\n",
    "p.xaxis.axis_label = 'mass'\n",
    "p.yaxis.axis_label = 'losses'\n",
    "show(p)"
   ]
  },
  {
   "cell_type": "code",
   "execution_count": 10,
   "metadata": {},
   "outputs": [
    {
     "output_type": "stream",
     "name": "stdout",
     "text": [
      "Design Data\nTurns = 23.853115987999036\nSlot depth (m) = 0.00983307809462889\nSlot width (m) = 0.0235838667113115\nCore width (m) = 0.018855819988397773\nCore length (m) = 0.03630084196044831\nAir gap (m) = 0.0002446855695612159\n \nDesign Metrics\nMass (kg) = 0.6598399545094564\nLoss at rated current (W) = 0.8305464526691179\n \nConstrained Quantities\nInductance (H) = 0.0010000549700242463\nFlux Density at Rated Current (T) = 0.6125148621351386\nCurrent Density Rated Current (A/m**2) = 1469408.608836148\n"
     ]
    }
   ],
   "source": [
    "solutionNr=17 # solution index chosen from pareto curve\n",
    "eui_fit.print_design(res.X[solutionNr], eui_fit.input_design_parameters())"
   ]
  }
 ],
 "metadata": {
  "kernelspec": {
   "display_name": "Python 3",
   "language": "python",
   "name": "python3"
  },
  "language_info": {
   "codemirror_mode": {
    "name": "ipython",
    "version": 3
   },
   "file_extension": ".py",
   "mimetype": "text/x-python",
   "name": "python",
   "nbconvert_exporter": "python",
   "pygments_lexer": "ipython3",
   "version": "3.7.8-final"
  }
 },
 "nbformat": 4,
 "nbformat_minor": 4
}