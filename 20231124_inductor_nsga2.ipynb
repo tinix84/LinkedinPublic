{
 "cells": [
  {
   "cell_type": "markdown",
   "metadata": {},
   "source": [
    "# Inductor volume/mass optimization based on genetic algorithm\n",
    "The inductor structure we will optimize look like the following UI-core and solid wire winding.\n",
    "\n",
    "![UIcore_inductor.png](./optim/img/UIcore_inductor.png \"UIcore_inductor.png\")"
   ]
  },
  {
   "cell_type": "markdown",
   "metadata": {},
   "source": [
    "The optimizer for this first version is not taking into account AC losses and thermal resistance (that can limit the max dissipable power)."
   ]
  },
  {
   "cell_type": "code",
   "execution_count": 1,
   "metadata": {
    "dotnet_interactive": {
     "language": "csharp"
    },
    "polyglot_notebook": {
     "kernelName": "csharp"
    },
    "vscode": {
     "languageId": "polyglot-notebook"
    }
   },
   "outputs": [
    {
     "ename": "Error",
     "evalue": "(1,1): error CS1525: Invalid expression term '%'\r\n(1,11): error CS1002: ; expected\r\n(2,13): error CS1002: ; expected",
     "output_type": "error",
     "traceback": [
      "(1,1): error CS1525: Invalid expression term '%'\r\n",
      "(1,11): error CS1002: ; expected\r\n",
      "(2,13): error CS1002: ; expected"
     ]
    }
   ],
   "source": [
    "%load_ext autoreload\n",
    "%autoreload 2"
   ]
  },
  {
   "cell_type": "code",
   "execution_count": null,
   "metadata": {
    "vscode": {
     "languageId": "polyglot-notebook"
    }
   },
   "outputs": [],
   "source": [
    "import sys\n",
    "import os\n",
    "sys.path.insert(0, os.path.abspath('.'))\n",
    "\n",
    "from bokeh.plotting import figure\n",
    "from bokeh.io import push_notebook, show, output_notebook\n",
    "from bokeh.layouts import row\n",
    "TOOLS = \"hover,pan,wheel_zoom,zoom_in,zoom_out,box_zoom,undo,redo,reset,tap,save,box_select,poly_select,lasso_select,\"\n",
    "\n",
    "import eui_fit"
   ]
  },
  {
   "cell_type": "code",
   "execution_count": null,
   "metadata": {
    "vscode": {
     "languageId": "polyglot-notebook"
    }
   },
   "outputs": [],
   "source": [
    "D=eui_fit.input_design_parameters()\n",
    "\n",
    "res = eui_fit.eui_modesign()"
   ]
  },
  {
   "cell_type": "code",
   "execution_count": 8,
   "metadata": {
    "vscode": {
     "languageId": "polyglot-notebook"
    }
   },
   "outputs": [],
   "source": [
    "output_notebook()"
   ]
  },
  {
   "cell_type": "code",
   "execution_count": 9,
   "metadata": {
    "vscode": {
     "languageId": "polyglot-notebook"
    }
   },
   "outputs": [],
   "source": [
    "p = figure(tools=TOOLS, plot_width=600, plot_height=450, title=\"inductor optimization\")\n",
    "p.scatter(x=res.F[:, 0], y=res.F[:, 1])\n",
    "p.xaxis.axis_label = 'mass'\n",
    "p.yaxis.axis_label = 'losses'\n",
    "show(p)"
   ]
  },
  {
   "cell_type": "code",
   "execution_count": 10,
   "metadata": {
    "vscode": {
     "languageId": "polyglot-notebook"
    }
   },
   "outputs": [],
   "source": [
    "solutionNr=17 # solution index chosen from pareto curve\n",
    "eui_fit.print_design(res.X[solutionNr], eui_fit.input_design_parameters())"
   ]
  },
  {
   "cell_type": "code",
   "execution_count": null,
   "metadata": {
    "dotnet_interactive": {
     "language": "csharp"
    },
    "polyglot_notebook": {
     "kernelName": "csharp"
    },
    "vscode": {
     "languageId": "polyglot-notebook"
    }
   },
   "outputs": [],
   "source": [
    "from bokeh.models import ColumnDataSource, NumeralTickFormatter, HoverTool\n",
    "\n",
    "res = eui_modesign()\n",
    "\n",
    "TOOLS = \"hover,pan,wheel_zoom,zoom_in,zoom_out,box_zoom,undo,redo,reset,tap,save,box_select,poly_select,lasso_select,\"\n",
    "\n",
    "TOOLTIPS = [\n",
    "    (\"index\", \"$index\"),\n",
    "    ('L', \"@L\"),\n",
    "    ('ds', \"@ds\"),\n",
    "    ('ws', \"@ws\"),\n",
    "    ('lc', \"@lc\"),\n",
    "    ('wc', \"@wc\"),\n",
    "    ('B', \"@Brt\"),\n",
    "    ('Nturns', \"@N\"),\n",
    "    ('lgap', \"@g\")\n",
    "]\n",
    "\n",
    "sol = pd.DataFrame()\n",
    "for v in res.X:\n",
    "    row = get_design(v, input_design_parameters())\n",
    "    sol = sol.append(row, ignore_index=True)\n",
    "\n",
    "source = ColumnDataSource(sol)\n",
    "\n",
    "p = figure(tools=TOOLS, tooltips=TOOLTIPS, plot_width=600, plot_height=450,\n",
    "            title=\"inductor optimization\")\n",
    "\n",
    "p.circle(x='M', y='Prt', size=5, source=source)\n",
    "#p.scatter(x=sol.M, y=sol.Prt)\n",
    "p.xaxis.axis_label = 'mass'\n",
    "p.yaxis.axis_label = 'losses'\n",
    "# Add the HoverTool to the figure\n",
    "#p.add_tools(HoverTool(tooltips=tooltips))\n",
    "show(p)\n",
    "\n",
    "print_design(res.X[26], input_design_parameters())"
   ]
  }
 ],
 "metadata": {
  "kernelspec": {
   "display_name": ".NET (C#)",
   "language": "C#",
   "name": ".net-csharp"
  },
  "language_info": {
   "codemirror_mode": {
    "name": "ipython",
    "version": 3
   },
   "file_extension": ".py",
   "mimetype": "text/x-python",
   "name": "python",
   "nbconvert_exporter": "python",
   "pygments_lexer": "ipython3",
   "version": "3.7.8-final"
  },
  "polyglot_notebook": {
   "kernelInfo": {
    "defaultKernelName": "csharp",
    "items": [
     {
      "aliases": [],
      "name": "csharp"
     }
    ]
   }
  }
 },
 "nbformat": 4,
 "nbformat_minor": 4
}
